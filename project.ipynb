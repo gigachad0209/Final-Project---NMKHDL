{
 "cells": [
  {
   "cell_type": "markdown",
   "metadata": {},
   "source": [
    "# Final Project"
   ]
  },
  {
   "cell_type": "markdown",
   "metadata": {},
   "source": [
    "## 1. Programming environment"
   ]
  },
  {
   "cell_type": "code",
   "execution_count": 2,
   "metadata": {},
   "outputs": [],
   "source": [
    "import pandas as pd\n",
    "import requests\n",
    "import json"
   ]
  },
  {
   "cell_type": "markdown",
   "metadata": {},
   "source": [
    "## 2. Data Collection"
   ]
  },
  {
   "cell_type": "markdown",
   "metadata": {},
   "source": [
    "Our group chose the website https://www.communitybenefitinsight.org/?page=info.data_api to collect our data. This website contains information about hospitals across the United States. \n",
    "The Community Benefit Insight data API allows us to retrieve the following types of data:\n",
    "+ Hospital data (optionally filtered by state)\n",
    "+ Detailed data about a single hospital"
   ]
  },
  {
   "cell_type": "markdown",
   "metadata": {},
   "source": [
    "## 2.1 Retrieve hospital data\n"
   ]
  },
  {
   "cell_type": "code",
   "execution_count": 3,
   "metadata": {},
   "outputs": [],
   "source": [
    "url = 'https://www.communitybenefitinsight.org/api/get_hospitals.php'\n",
    "data = requests.get(url).text\n",
    "hospital_data = json.loads(data)\n",
    "attribute_names = list(hospital_data[0].keys())\n",
    "data = {}\n",
    "for attribute in attribute_names:\n",
    "    data[attribute] = [item[attribute] for item in hospital_data]\n",
    "df = pd.DataFrame.from_dict(data)\n",
    "df.to_csv('./data/full_hospital.csv', index=False)"
   ]
  },
  {
   "cell_type": "markdown",
   "metadata": {},
   "source": [
    "## 2.2 Retrieve detailed data from every hospital\n",
    "\n",
    "There are total 3491 hospitals in the dataset but the website only allowed us to make 100 requests per week. So I had to change my location using Urban VPN to retrieve information about 99 hospitals at a time."
   ]
  },
  {
   "cell_type": "code",
   "execution_count": null,
   "metadata": {},
   "outputs": [],
   "source": [
    "url = 'https://www.communitybenefitinsight.org/api/get_hospital_data.php?hospital_id=1'\n",
    "data = requests.get(url).text\n",
    "web = json.loads(data)\n",
    "attribute = list(web[-1].keys())"
   ]
  },
  {
   "cell_type": "code",
   "execution_count": null,
   "metadata": {},
   "outputs": [],
   "source": [
    "single_data = {}\n",
    "single_data['hospital_id'] = []\n",
    "for name in attribute:\n",
    "    single_data[name] = []"
   ]
  },
  {
   "cell_type": "code",
   "execution_count": null,
   "metadata": {},
   "outputs": [],
   "source": [
    "for id in range(3455, 3492):\n",
    "    new_url = 'https://www.communitybenefitinsight.org/api/get_hospital_data.php?hospital_id=' + str(id)\n",
    "    new_data = requests.get(new_url).text\n",
    "    json_data = json.loads(new_data)\n",
    "    for name in attribute:\n",
    "        single_data[name].append(json_data[-1][name])\n",
    "    single_data['hospital_id'].append(id)\n",
    "    # print(id)"
   ]
  },
  {
   "cell_type": "code",
   "execution_count": null,
   "metadata": {},
   "outputs": [],
   "source": [
    "df = pd.DataFrame.from_dict(single_data)\n",
    "df.to_csv('test.csv', header=False, index=False)"
   ]
  },
  {
   "cell_type": "markdown",
   "metadata": {},
   "source": [
    "When we made the API call to collect data of a specific hospital, the website will return the datas that were reported over the years so our group only retrieved the latest piece of information. Next I will concatenate every dataset that I saved as csv type."
   ]
  },
  {
   "cell_type": "code",
   "execution_count": null,
   "metadata": {},
   "outputs": [],
   "source": []
  },
  {
   "cell_type": "markdown",
   "metadata": {},
   "source": [
    "Finally I will concatenate that dataset to the first one."
   ]
  }
 ],
 "metadata": {
  "kernelspec": {
   "display_name": "Python 3",
   "language": "python",
   "name": "python3"
  },
  "language_info": {
   "codemirror_mode": {
    "name": "ipython",
    "version": 3
   },
   "file_extension": ".py",
   "mimetype": "text/x-python",
   "name": "python",
   "nbconvert_exporter": "python",
   "pygments_lexer": "ipython3",
   "version": "3.11.3"
  }
 },
 "nbformat": 4,
 "nbformat_minor": 2
}
