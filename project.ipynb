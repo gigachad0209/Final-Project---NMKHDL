{
 "cells": [
  {
   "cell_type": "markdown",
   "metadata": {},
   "source": [
    "# Final Project"
   ]
  },
  {
   "cell_type": "markdown",
   "metadata": {},
   "source": [
    "## 1. Programming environment"
   ]
  },
  {
   "cell_type": "code",
   "execution_count": 1,
   "metadata": {},
   "outputs": [],
   "source": [
    "import pandas as pd\n",
    "import requests\n",
    "import json"
   ]
  },
  {
   "cell_type": "markdown",
   "metadata": {},
   "source": [
    "## 2. Data Collection"
   ]
  },
  {
   "cell_type": "markdown",
   "metadata": {},
   "source": [
    "Our group chose the website https://www.communitybenefitinsight.org/?page=info.data_api to collect our data. This website contains information about hospitals across the United States. \n",
    "The Community Benefit Insight data API allows us to retrieve the following types of data:\n",
    "+ Hospital data (optionally filtered by state)\n",
    "+ Detailed data about a single hospital"
   ]
  },
  {
   "cell_type": "markdown",
   "metadata": {},
   "source": [
    "## 2.1 Retrieve hospital data\n"
   ]
  },
  {
   "cell_type": "code",
   "execution_count": 3,
   "metadata": {},
   "outputs": [],
   "source": [
    "url = 'https://www.communitybenefitinsight.org/api/get_hospitals.php'\n",
    "data = requests.get(url).text\n",
    "hospital_data = json.loads(data)\n",
    "attribute_names = list(hospital_data[0].keys())\n",
    "data = {}\n",
    "for attribute in attribute_names:\n",
    "    data[attribute] = [item[attribute] for item in hospital_data]\n",
    "df = pd.DataFrame.from_dict(data)\n",
    "df.to_csv('./data/full_hospital.csv', index=False)\n",
    "print(1)"
   ]
  },
  {
   "cell_type": "markdown",
   "metadata": {},
   "source": [
    "## 2.2 Retrieve detailed data from every hospital\n",
    "\n",
    "To retrieve data for each hospital, we use https://www.communitybenefitinsight.org/api/get_hospital_data.php?hospital_id= + ID (ID is the hospital ID)"
   ]
  },
  {
   "cell_type": "markdown",
   "metadata": {},
   "source": [
    "Get attributes for the dataset "
   ]
  },
  {
   "cell_type": "code",
   "execution_count": 12,
   "metadata": {},
   "outputs": [
    {
     "data": {
      "text/plain": [
       "['hospital_data_id',\n",
       " 'fiscal_yr',\n",
       " 'data_ein',\n",
       " 'data_name',\n",
       " 'form_990_filed_part_grp_ret_f',\n",
       " 'form_990_num_fac_oper',\n",
       " 'form_990_name',\n",
       " 'form_990_address',\n",
       " 'form_990_city',\n",
       " 'form_990_state',\n",
       " 'form_990_zip',\n",
       " 'tot_func_exp',\n",
       " 'tot_revenue',\n",
       " 'tot_comm_bnfts',\n",
       " 'chrty_care',\n",
       " 'unreim_medcd',\n",
       " 'unreim_costs',\n",
       " 'comm_hlth_impr_svcs_comm_bnft_oper',\n",
       " 'hlth_prof_educ',\n",
       " 'subsd_hlth_svcs',\n",
       " 'rsrch',\n",
       " 'cash_inknd_contrib_comm_grps',\n",
       " 'comm_bldg',\n",
       " 'comm_bldg_actvs',\n",
       " 'comm_bldg_actvs_physimprvhse',\n",
       " 'comm_bldg_actvs_econdevlp',\n",
       " 'comm_bldg_actvs_cmntysuprt',\n",
       " 'comm_bldg_actvs_envrnimprv',\n",
       " 'comm_bldg_actvs_ldrdevlp',\n",
       " 'comm_bldg_actvs_cltnbldg',\n",
       " 'comm_bldg_actvs_htlhimprvadvcy',\n",
       " 'comm_bldg_actvs_wrkfrcdevlp',\n",
       " 'comm_bldg_actvs_other',\n",
       " 'comm_bldg_actvs_physimprvhse_pct',\n",
       " 'comm_bldg_actvs_econdevlp_pct',\n",
       " 'comm_bldg_actvs_cmntysuprt_pct',\n",
       " 'comm_bldg_actvs_envrnimprv_pct',\n",
       " 'comm_bldg_actvs_ldrdevlp_pct',\n",
       " 'comm_bldg_actvs_cltnbldg_pct',\n",
       " 'comm_bldg_actvs_htlhimprvadvcy_pct',\n",
       " 'comm_bldg_actvs_wrkfrcdevlp_pct',\n",
       " 'comm_bldg_actvs_other_pct',\n",
       " 'bad_debt',\n",
       " 'bad_debt_tot_func_exp_atrb_pat_elig_fncl_asst',\n",
       " 'mdcre_shrtfl',\n",
       " 'tot_comm_bnfts_tot_func_exp_pct',\n",
       " 'chrty_care_tot_func_exp_pct',\n",
       " 'unreim_medcd_tot_func_exp_pct',\n",
       " 'unreim_costs_tot_func_exp_pct',\n",
       " 'comm_hlth_impr_svcs_comm_bnft_oper_tot_func_exp_pct',\n",
       " 'hlth_prof_educ_tot_func_exp_pct',\n",
       " 'subsd_hlth_svcs_tot_func_exp_pct',\n",
       " 'rsrch_tot_func_exp_pct',\n",
       " 'cash_inknd_contrib_comm_grps_tot_func_exp_pct',\n",
       " 'hosp_rpt_comm_bldg_actvs_f',\n",
       " 'comm_bldg_tot_func_exp_pct',\n",
       " 'comm_bldg_actvs_tot_func_exp_pct',\n",
       " 'bad_debt_tot_func_exp_pct',\n",
       " 'bad_debt_tot_func_exp_atrb_pat_elig_fncl_asst_pct',\n",
       " 'mdcre_shrtfl_tot_func_exp_pct',\n",
       " 'rat_pat_care_npat_care_comm_bnfts',\n",
       " 'sole_comm_prov_f',\n",
       " 'written_fncl_asst_policy_f',\n",
       " 'used_fed_pov_gdlns_det_elig_free_disc_care_f',\n",
       " 'rpted_credit_agency_f',\n",
       " 'filed_lawsuit_f',\n",
       " 'placed_liens_resdnc_f',\n",
       " 'issued_body_attch_f',\n",
       " 'chna_cond_comm_hlth_needs_assmt_f',\n",
       " 'chna_defined_comm_served_f',\n",
       " 'chna_took_into_acct_input_ppl_rep_broad_intrst_comm_served_f',\n",
       " 'chna_cond_w_mult_hosp_facilities_f',\n",
       " 'chna_made_wide_avail_pub_f',\n",
       " 'hosp_adp_imp_stg_addr_hlth_needs_comm_f',\n",
       " 'hosp_exe_imp_stg_addr_hlth_needs_comm_f',\n",
       " 'hosp_prtcp_dev_commwide_comm_bnft_plan_f',\n",
       " 'per_capita_inc_qrt',\n",
       " 'per_capita_inc',\n",
       " 'med_hsehld_inc_qrt',\n",
       " 'med_hsehld_inc',\n",
       " 'percent_ppl_pov_qrt',\n",
       " 'percent_ppl_pov_pct',\n",
       " 'percent_ppl_65_yrs_old_without_hlth_insr_qrt',\n",
       " 'percent_ppl_65_yrs_old_without_hlth_insr_pct',\n",
       " 'unemp_rate_16_yrs_older_qrt',\n",
       " 'unemp_rate_16_yrs_older',\n",
       " 'st_impl_aca_medcd_exp_cvrg_adlts_w_incs_up_138pct_fpl_f',\n",
       " 'st_inc_elig_prnts_dep_chldrn_enrol_medcd_ltd_76pct_fpl_less_f',\n",
       " 'st_law_req_hosp_rpt_comm_bnfts_f',\n",
       " 'paper_return_f',\n",
       " 'netcommbldgexpns_total',\n",
       " 'numactpgm_physimprvhse',\n",
       " 'numactpgm_econdevlp',\n",
       " 'numactpgm_cmntysuprt',\n",
       " 'numactpgm_envrnimprv',\n",
       " 'numactpgm_ldrdevlp',\n",
       " 'numactpgm_cltnbldg',\n",
       " 'numactpgm_htlhimprvadvcy',\n",
       " 'numactpgm_wrkfrcdevlp',\n",
       " 'numactpgm_other',\n",
       " 'numactpgm_total',\n",
       " 'prsnssrvd_physimprvhse',\n",
       " 'prsnssrvd_econdevlp',\n",
       " 'prsnssrvd_cmntysuprt',\n",
       " 'prsnssrvd_envrnimprv',\n",
       " 'prsnssrvd_ldrdevlp',\n",
       " 'prsnssrvd_cltnbldg',\n",
       " 'prsnssrvd_htlhimprvadvcy',\n",
       " 'prsnssrvd_wrkfrcdevlp',\n",
       " 'prsnssrvd_other',\n",
       " 'prsnssrvd_total',\n",
       " 'ttlcommbldgexpns_physimprvhse',\n",
       " 'ttlcommbldgexpns_econdevlp',\n",
       " 'ttlcommbldgexpns_cmntysuprt',\n",
       " 'ttlcommbldgexpns_envrnimprv',\n",
       " 'ttlcommbldgexpns_ldrdevlp',\n",
       " 'ttlcommbldgexpns_cltnbldg',\n",
       " 'ttlcommbldgexpns_htlhimprvadvcy',\n",
       " 'ttlcommbldgexpns_wrkfrcdevlp',\n",
       " 'ttlcommbldgexpns_other',\n",
       " 'ttlcommbldgexpns_total',\n",
       " 'diroffsetrev_physimprvhse',\n",
       " 'diroffsetrev_econdevlp',\n",
       " 'diroffsetrev_cmntysuprt',\n",
       " 'diroffsetrev_envrnimprv',\n",
       " 'diroffsetrev_ldrdevlp',\n",
       " 'diroffsetrev_cltnbldg',\n",
       " 'diroffsetrev_htlhimprvadvcy',\n",
       " 'diroffsetrev_wrkfrcdevlp',\n",
       " 'diroffsetrev_other',\n",
       " 'diroffsetrev_total',\n",
       " 'pctttlexp_physimprvhse',\n",
       " 'pctttlexp_econdevlp',\n",
       " 'pctttlexp_cmntysuprt',\n",
       " 'pctttlexp_envrnimprv',\n",
       " 'pctttlexp_ldrdevlp',\n",
       " 'pctttlexp_cltnbldg',\n",
       " 'pctttlexp_htlhimprvadvcy',\n",
       " 'pctttlexp_wrkfrcdevlp',\n",
       " 'pctttlexp_other',\n",
       " 'pctttlexp_total',\n",
       " 'updated_dt']"
      ]
     },
     "execution_count": 12,
     "metadata": {},
     "output_type": "execute_result"
    }
   ],
   "source": [
    "url = 'https://www.communitybenefitinsight.org/api/get_hospital_data.php?hospital_id=1'\n",
    "data = requests.get(url).text\n",
    "web = json.loads(data)\n",
    "attribute = list(web[-1].keys())\n",
    "attribute"
   ]
  },
  {
   "cell_type": "markdown",
   "metadata": {},
   "source": [
    "Create a dictionary to store value for each attribute. The dictionary has one extra key to store the hospital id."
   ]
  },
  {
   "cell_type": "code",
   "execution_count": 13,
   "metadata": {},
   "outputs": [],
   "source": [
    "single_data = {}\n",
    "single_data['hospital_id'] = []\n",
    "for name in attribute:\n",
    "    single_data[name] = []"
   ]
  },
  {
   "cell_type": "markdown",
   "metadata": {},
   "source": [
    "There are total 3491 hospitals in the dataset but the website only allowed us to make 100 requests per week. So I had to change my VPN  to retrieve information about 100 hospitals at a time."
   ]
  },
  {
   "cell_type": "code",
   "execution_count": null,
   "metadata": {},
   "outputs": [],
   "source": [
    "for id in range(1, 100):\n",
    "    new_url = 'https://www.communitybenefitinsight.org/api/get_hospital_data.php?hospital_id=' + str(id)\n",
    "    new_data = requests.get(new_url).text\n",
    "    json_data = json.loads(new_data)\n",
    "    for name in attribute:\n",
    "        single_data[name].append(json_data[-1][name])\n",
    "    single_data['hospital_id'].append(id)\n",
    "    # print(id)"
   ]
  },
  {
   "cell_type": "markdown",
   "metadata": {},
   "source": [
    "Save the data as csv format"
   ]
  },
  {
   "cell_type": "code",
   "execution_count": null,
   "metadata": {},
   "outputs": [],
   "source": [
    "df = pd.DataFrame.from_dict(single_data)\n",
    "df.to_csv('./data/test.csv', index=False)"
   ]
  },
  {
   "cell_type": "markdown",
   "metadata": {},
   "source": [
    "Finally I will concatenate that dataset to the first one."
   ]
  },
  {
   "cell_type": "code",
   "execution_count": 6,
   "metadata": {},
   "outputs": [
    {
     "data": {
      "text/html": [
       "<div>\n",
       "<style scoped>\n",
       "    .dataframe tbody tr th:only-of-type {\n",
       "        vertical-align: middle;\n",
       "    }\n",
       "\n",
       "    .dataframe tbody tr th {\n",
       "        vertical-align: top;\n",
       "    }\n",
       "\n",
       "    .dataframe thead th {\n",
       "        text-align: right;\n",
       "    }\n",
       "</style>\n",
       "<table border=\"1\" class=\"dataframe\">\n",
       "  <thead>\n",
       "    <tr style=\"text-align: right;\">\n",
       "      <th></th>\n",
       "      <th>hospital_id</th>\n",
       "      <th>hospital_org_id</th>\n",
       "      <th>ein</th>\n",
       "      <th>name</th>\n",
       "      <th>name_cr</th>\n",
       "      <th>street_address</th>\n",
       "      <th>city</th>\n",
       "      <th>state</th>\n",
       "      <th>zip_code</th>\n",
       "      <th>fips_state_and_county_code</th>\n",
       "      <th>...</th>\n",
       "      <th>pctttlexp_econdevlp</th>\n",
       "      <th>pctttlexp_cmntysuprt</th>\n",
       "      <th>pctttlexp_envrnimprv</th>\n",
       "      <th>pctttlexp_ldrdevlp</th>\n",
       "      <th>pctttlexp_cltnbldg</th>\n",
       "      <th>pctttlexp_htlhimprvadvcy</th>\n",
       "      <th>pctttlexp_wrkfrcdevlp</th>\n",
       "      <th>pctttlexp_other</th>\n",
       "      <th>pctttlexp_total</th>\n",
       "      <th>updated_dt_y</th>\n",
       "    </tr>\n",
       "  </thead>\n",
       "  <tbody>\n",
       "    <tr>\n",
       "      <th>0</th>\n",
       "      <td>1</td>\n",
       "      <td>1</td>\n",
       "      <td>630307951</td>\n",
       "      <td>Mizell Memorial Hospital</td>\n",
       "      <td>Mizell Memorial Hospital</td>\n",
       "      <td>702 Main Street</td>\n",
       "      <td>Opp</td>\n",
       "      <td>AL</td>\n",
       "      <td>36462</td>\n",
       "      <td>1039</td>\n",
       "      <td>...</td>\n",
       "      <td>0.0</td>\n",
       "      <td>0.0001</td>\n",
       "      <td>0.0</td>\n",
       "      <td>0.0</td>\n",
       "      <td>0.0</td>\n",
       "      <td>0.0001</td>\n",
       "      <td>0.0017</td>\n",
       "      <td>0.0</td>\n",
       "      <td>0.0019</td>\n",
       "      <td>November 20, 2023</td>\n",
       "    </tr>\n",
       "    <tr>\n",
       "      <th>1</th>\n",
       "      <td>2</td>\n",
       "      <td>2</td>\n",
       "      <td>630578923</td>\n",
       "      <td>St Vincents East</td>\n",
       "      <td>St Vincents East</td>\n",
       "      <td>50 Medical Park Drive East</td>\n",
       "      <td>Birmingham</td>\n",
       "      <td>AL</td>\n",
       "      <td>35235</td>\n",
       "      <td>1073</td>\n",
       "      <td>...</td>\n",
       "      <td>0.0</td>\n",
       "      <td>0.0000</td>\n",
       "      <td>0.0</td>\n",
       "      <td>0.0</td>\n",
       "      <td>0.0</td>\n",
       "      <td>0.0000</td>\n",
       "      <td>0.0000</td>\n",
       "      <td>0.0</td>\n",
       "      <td>0.0000</td>\n",
       "      <td>November 20, 2023</td>\n",
       "    </tr>\n",
       "    <tr>\n",
       "      <th>2</th>\n",
       "      <td>3</td>\n",
       "      <td>3</td>\n",
       "      <td>630312913</td>\n",
       "      <td>Shelby Baptist Medical Center</td>\n",
       "      <td>Shelby Baptist Medical Center</td>\n",
       "      <td>1000 First Street North</td>\n",
       "      <td>Alabaster</td>\n",
       "      <td>AL</td>\n",
       "      <td>35007</td>\n",
       "      <td>1117</td>\n",
       "      <td>...</td>\n",
       "      <td>0.0</td>\n",
       "      <td>0.0000</td>\n",
       "      <td>0.0</td>\n",
       "      <td>0.0</td>\n",
       "      <td>0.0</td>\n",
       "      <td>0.0000</td>\n",
       "      <td>0.0000</td>\n",
       "      <td>0.0</td>\n",
       "      <td>0.0000</td>\n",
       "      <td>November 20, 2023</td>\n",
       "    </tr>\n",
       "    <tr>\n",
       "      <th>3</th>\n",
       "      <td>4</td>\n",
       "      <td>4</td>\n",
       "      <td>630459034</td>\n",
       "      <td>Callahan Eye Foundation Hosp</td>\n",
       "      <td>Callahan Eye Foundation Hosp</td>\n",
       "      <td>1720 University Boulevard</td>\n",
       "      <td>Birmingham</td>\n",
       "      <td>AL</td>\n",
       "      <td>35233</td>\n",
       "      <td>1073</td>\n",
       "      <td>...</td>\n",
       "      <td>0.0</td>\n",
       "      <td>0.0000</td>\n",
       "      <td>0.0</td>\n",
       "      <td>0.0</td>\n",
       "      <td>0.0</td>\n",
       "      <td>0.0000</td>\n",
       "      <td>0.0000</td>\n",
       "      <td>0.0</td>\n",
       "      <td>0.0000</td>\n",
       "      <td>November 20, 2023</td>\n",
       "    </tr>\n",
       "    <tr>\n",
       "      <th>4</th>\n",
       "      <td>5</td>\n",
       "      <td>5</td>\n",
       "      <td>581973570</td>\n",
       "      <td>Cherokee Medical Center</td>\n",
       "      <td>Cherokee Medical Center</td>\n",
       "      <td>400 Northwood Drive</td>\n",
       "      <td>Centre</td>\n",
       "      <td>AL</td>\n",
       "      <td>35960</td>\n",
       "      <td>1019</td>\n",
       "      <td>...</td>\n",
       "      <td>0.0</td>\n",
       "      <td>0.0000</td>\n",
       "      <td>0.0</td>\n",
       "      <td>0.0</td>\n",
       "      <td>0.0</td>\n",
       "      <td>0.0000</td>\n",
       "      <td>0.0000</td>\n",
       "      <td>0.0</td>\n",
       "      <td>0.0000</td>\n",
       "      <td>November 20, 2023</td>\n",
       "    </tr>\n",
       "  </tbody>\n",
       "</table>\n",
       "<p>5 rows × 161 columns</p>\n",
       "</div>"
      ],
      "text/plain": [
       "   hospital_id  hospital_org_id        ein                           name  \\\n",
       "0            1                1  630307951       Mizell Memorial Hospital   \n",
       "1            2                2  630578923               St Vincents East   \n",
       "2            3                3  630312913  Shelby Baptist Medical Center   \n",
       "3            4                4  630459034   Callahan Eye Foundation Hosp   \n",
       "4            5                5  581973570        Cherokee Medical Center   \n",
       "\n",
       "                         name_cr              street_address        city  \\\n",
       "0       Mizell Memorial Hospital             702 Main Street         Opp   \n",
       "1               St Vincents East  50 Medical Park Drive East  Birmingham   \n",
       "2  Shelby Baptist Medical Center     1000 First Street North   Alabaster   \n",
       "3   Callahan Eye Foundation Hosp   1720 University Boulevard  Birmingham   \n",
       "4        Cherokee Medical Center         400 Northwood Drive      Centre   \n",
       "\n",
       "  state  zip_code  fips_state_and_county_code  ...  pctttlexp_econdevlp  \\\n",
       "0    AL     36462                        1039  ...                  0.0   \n",
       "1    AL     35235                        1073  ...                  0.0   \n",
       "2    AL     35007                        1117  ...                  0.0   \n",
       "3    AL     35233                        1073  ...                  0.0   \n",
       "4    AL     35960                        1019  ...                  0.0   \n",
       "\n",
       "  pctttlexp_cmntysuprt pctttlexp_envrnimprv pctttlexp_ldrdevlp  \\\n",
       "0               0.0001                  0.0                0.0   \n",
       "1               0.0000                  0.0                0.0   \n",
       "2               0.0000                  0.0                0.0   \n",
       "3               0.0000                  0.0                0.0   \n",
       "4               0.0000                  0.0                0.0   \n",
       "\n",
       "  pctttlexp_cltnbldg  pctttlexp_htlhimprvadvcy pctttlexp_wrkfrcdevlp  \\\n",
       "0                0.0                    0.0001                0.0017   \n",
       "1                0.0                    0.0000                0.0000   \n",
       "2                0.0                    0.0000                0.0000   \n",
       "3                0.0                    0.0000                0.0000   \n",
       "4                0.0                    0.0000                0.0000   \n",
       "\n",
       "  pctttlexp_other pctttlexp_total       updated_dt_y  \n",
       "0             0.0          0.0019  November 20, 2023  \n",
       "1             0.0          0.0000  November 20, 2023  \n",
       "2             0.0          0.0000  November 20, 2023  \n",
       "3             0.0          0.0000  November 20, 2023  \n",
       "4             0.0          0.0000  November 20, 2023  \n",
       "\n",
       "[5 rows x 161 columns]"
      ]
     },
     "execution_count": 6,
     "metadata": {},
     "output_type": "execute_result"
    }
   ],
   "source": [
    "first_df = pd.read_csv('./data/full_hospital.csv')\n",
    "second_df = pd.read_csv('./data/test.csv')\n",
    "raw_df = pd.merge(first_df, second_df, on='hospital_id')\n",
    "raw_df.to_csv('./data/raw_data.csv', index = False)\n",
    "raw_df.head(5)"
   ]
  },
  {
   "cell_type": "markdown",
   "metadata": {},
   "source": [
    "# 3. Data Preprocessing & Exploration"
   ]
  },
  {
   "cell_type": "markdown",
   "metadata": {},
   "source": [
    "## How many rows and columns does this data have?"
   ]
  },
  {
   "cell_type": "code",
   "execution_count": 8,
   "metadata": {},
   "outputs": [
    {
     "name": "stdout",
     "output_type": "stream",
     "text": [
      "Current shape: (3491, 161)\n"
     ]
    }
   ],
   "source": [
    "shape = raw_df.shape\n",
    "print(f\"Current shape: {shape}\")"
   ]
  },
  {
   "cell_type": "markdown",
   "metadata": {},
   "source": [
    "## Check for duplicate row in data "
   ]
  },
  {
   "cell_type": "code",
   "execution_count": 10,
   "metadata": {},
   "outputs": [
    {
     "name": "stdout",
     "output_type": "stream",
     "text": [
      "Your raw data have no duplicated line.!\n"
     ]
    }
   ],
   "source": [
    "index = raw_df.index\n",
    "detectDupSeries = index.duplicated(keep='first')\n",
    "num_duplicated_rows = detectDupSeries.sum()\n",
    "\n",
    "if num_duplicated_rows == 0:\n",
    "    print(f\"Your raw data have no duplicated line.!\")\n",
    "else:\n",
    "    if num_duplicated_rows > 1:\n",
    "        ext = \"lines\"\n",
    "    else:\n",
    "        ext = \"line\"\n",
    "    print(f\"Your raw data have {num_duplicated_rows} duplicated \" + ext + \". Please de-deduplicate your raw data.!\")"
   ]
  },
  {
   "cell_type": "markdown",
   "metadata": {},
   "source": [
    "## Choosing attribute"
   ]
  },
  {
   "cell_type": "markdown",
   "metadata": {},
   "source": [
    "There are 161 features in the dataframe which is too many so we will choose only 20-30 essential features in the dataframe to explore"
   ]
  }
 ],
 "metadata": {
  "kernelspec": {
   "display_name": "Python 3",
   "language": "python",
   "name": "python3"
  },
  "language_info": {
   "codemirror_mode": {
    "name": "ipython",
    "version": 3
   },
   "file_extension": ".py",
   "mimetype": "text/x-python",
   "name": "python",
   "nbconvert_exporter": "python",
   "pygments_lexer": "ipython3",
   "version": "3.11.3"
  }
 },
 "nbformat": 4,
 "nbformat_minor": 2
}
