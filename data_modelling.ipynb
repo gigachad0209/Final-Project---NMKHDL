{
 "cells": [
  {
   "cell_type": "markdown",
   "metadata": {},
   "source": [
    "<font color=lightgreen>**Context**</font>: In this section, OLS Linear Regression is chosen for machine learning\n",
    "\n",
    "<font color=lightgreen>**Question**</font>: Training a model to predict Bad debt as % in total expenses\n",
    "\n",
    "<font color=lightgreen>**Overall**</font>: We will train 02 model and compare its MAE"
   ]
  },
  {
   "cell_type": "markdown",
   "metadata": {},
   "source": [
    "## Import"
   ]
  },
  {
   "cell_type": "code",
   "execution_count": 77,
   "metadata": {},
   "outputs": [],
   "source": [
    "import numpy as np\n",
    "import pandas as pd\n",
    "from sklearn.linear_model import LinearRegression\n",
    "from sklearn.model_selection import train_test_split\n",
    "from sklearn.feature_selection import SelectKBest, mutual_info_regression\n",
    "from sklearn.feature_selection import f_regression\n",
    "import matplotlib.pyplot as plt\n",
    "from sklearn.pipeline import Pipeline\n",
    "from sklearn.tree import DecisionTreeRegressor\n",
    "from sklearn.metrics import confusion_matrix\n",
    "from sklearn.metrics import accuracy_score\n",
    "from sklearn.model_selection import KFold\n",
    "from sklearn.model_selection import GridSearchCV, RepeatedKFold\n",
    "from sklearn.metrics import mean_absolute_error\n",
    "from sklearn.model_selection import cross_val_score\n",
    "from numpy import mean\n",
    "from numpy import absolute\n",
    "\n",
    "from sklearn.ensemble import GradientBoostingRegressor\n",
    "from sklearn.model_selection import train_test_split\n",
    "from sklearn.metrics import mean_squared_error\n"
   ]
  },
  {
   "cell_type": "markdown",
   "metadata": {},
   "source": [
    "## Data preparation"
   ]
  },
  {
   "cell_type": "markdown",
   "metadata": {},
   "source": [
    "Firstly, we will drop 02 columns (year and country) as well as drop \"GDP in USD\" column for y (prediction)"
   ]
  },
  {
   "cell_type": "code",
   "execution_count": 132,
   "metadata": {},
   "outputs": [],
   "source": [
    "# YOUR CODE HERE (OPTION) \n",
    "ori_data = pd.read_csv(\"./data/final_data.csv\")\n",
    "copy_data = ori_data.copy()"
   ]
  },
  {
   "cell_type": "code",
   "execution_count": 133,
   "metadata": {},
   "outputs": [
    {
     "name": "stdout",
     "output_type": "stream",
     "text": [
      "Index(['name', 'street_address', 'city', 'state', 'urban_location_f',\n",
      "       'memb_counc_teach_hosps_f', 'county', 'hospital_bed_size',\n",
      "       'form_990_filed_part_grp_ret_f', 'chna_cond_w_mult_hosp_facilities_f',\n",
      "       'st_impl_aca_medcd_exp_cvrg_adlts_w_incs_up_138pct_fpl_f',\n",
      "       'st_law_req_hosp_rpt_comm_bnfts_f'],\n",
      "      dtype='object')\n"
     ]
    }
   ],
   "source": [
    "def get_object_columns(dataframe):\n",
    "    object_columns = dataframe.select_dtypes(include=['object']).columns\n",
    "    return object_columns\n",
    "\n",
    "object_columns = get_object_columns(copy_data)\n",
    "#rem_cols = object_columns.difference(['city', 'state'])\n",
    "\n",
    "print(object_columns)\n",
    "\n",
    "copy_data.drop(object_columns, axis='columns', inplace=True)"
   ]
  },
  {
   "cell_type": "code",
   "execution_count": 134,
   "metadata": {},
   "outputs": [
    {
     "name": "stdout",
     "output_type": "stream",
     "text": [
      "<class 'pandas.core.frame.DataFrame'>\n",
      "RangeIndex: 3491 entries, 0 to 3490\n",
      "Data columns (total 32 columns):\n",
      " #   Column                                               Non-Null Count  Dtype  \n",
      "---  ------                                               --------------  -----  \n",
      " 0   hospital_id                                          3491 non-null   int64  \n",
      " 1   ein                                                  3491 non-null   int64  \n",
      " 2   hospital_bed_count                                   3491 non-null   int64  \n",
      " 3   medicare_provider_number                             3491 non-null   int64  \n",
      " 4   hospital_data_id                                     3491 non-null   int64  \n",
      " 5   fiscal_yr                                            3491 non-null   int64  \n",
      " 6   form_990_num_fac_oper                                3491 non-null   int64  \n",
      " 7   tot_func_exp                                         3491 non-null   int64  \n",
      " 8   tot_revenue                                          3491 non-null   int64  \n",
      " 9   tot_comm_bnfts                                       3491 non-null   int64  \n",
      " 10  chrty_care                                           3491 non-null   int64  \n",
      " 11  unreim_medcd                                         3491 non-null   int64  \n",
      " 12  comm_hlth_impr_svcs_comm_bnft_oper                   3491 non-null   int64  \n",
      " 13  bad_debt                                             3491 non-null   int64  \n",
      " 14  mdcre_shrtfl                                         3491 non-null   int64  \n",
      " 15  tot_comm_bnfts_tot_func_exp_pct                      3491 non-null   float64\n",
      " 16  chrty_care_tot_func_exp_pct                          3491 non-null   float64\n",
      " 17  unreim_medcd_tot_func_exp_pct                        3491 non-null   float64\n",
      " 18  comm_hlth_impr_svcs_comm_bnft_oper_tot_func_exp_pct  3491 non-null   float64\n",
      " 19  bad_debt_tot_func_exp_pct                            3491 non-null   float64\n",
      " 20  mdcre_shrtfl_tot_func_exp_pct                        3491 non-null   float64\n",
      " 21  rat_pat_care_npat_care_comm_bnfts                    3491 non-null   float64\n",
      " 22  per_capita_inc_qrt                                   3491 non-null   int64  \n",
      " 23  per_capita_inc                                       3491 non-null   int64  \n",
      " 24  med_hsehld_inc_qrt                                   3491 non-null   int64  \n",
      " 25  med_hsehld_inc                                       3491 non-null   int64  \n",
      " 26  percent_ppl_pov_qrt                                  3491 non-null   int64  \n",
      " 27  percent_ppl_pov_pct                                  3491 non-null   float64\n",
      " 28  percent_ppl_65_yrs_old_without_hlth_insr_qrt         3491 non-null   int64  \n",
      " 29  percent_ppl_65_yrs_old_without_hlth_insr_pct         3491 non-null   float64\n",
      " 30  unemp_rate_16_yrs_older_qrt                          3491 non-null   int64  \n",
      " 31  unemp_rate_16_yrs_older                              3491 non-null   float64\n",
      "dtypes: float64(10), int64(22)\n",
      "memory usage: 872.9 KB\n"
     ]
    }
   ],
   "source": [
    "for col in copy_data.columns[:-3]:\n",
    "    median = copy_data[col].median(skipna=True)\n",
    "    copy_data[col] = copy_data[col].fillna(median)\n",
    "copy_data.info()"
   ]
  },
  {
   "cell_type": "code",
   "execution_count": 135,
   "metadata": {},
   "outputs": [
    {
     "data": {
      "text/html": [
       "<div>\n",
       "<style scoped>\n",
       "    .dataframe tbody tr th:only-of-type {\n",
       "        vertical-align: middle;\n",
       "    }\n",
       "\n",
       "    .dataframe tbody tr th {\n",
       "        vertical-align: top;\n",
       "    }\n",
       "\n",
       "    .dataframe thead th {\n",
       "        text-align: right;\n",
       "    }\n",
       "</style>\n",
       "<table border=\"1\" class=\"dataframe\">\n",
       "  <thead>\n",
       "    <tr style=\"text-align: right;\">\n",
       "      <th></th>\n",
       "      <th>hospital_id</th>\n",
       "      <th>ein</th>\n",
       "      <th>hospital_bed_count</th>\n",
       "      <th>medicare_provider_number</th>\n",
       "      <th>hospital_data_id</th>\n",
       "      <th>fiscal_yr</th>\n",
       "      <th>form_990_num_fac_oper</th>\n",
       "      <th>tot_func_exp</th>\n",
       "      <th>tot_revenue</th>\n",
       "      <th>tot_comm_bnfts</th>\n",
       "      <th>...</th>\n",
       "      <th>per_capita_inc</th>\n",
       "      <th>med_hsehld_inc_qrt</th>\n",
       "      <th>med_hsehld_inc</th>\n",
       "      <th>percent_ppl_pov_qrt</th>\n",
       "      <th>percent_ppl_pov_pct</th>\n",
       "      <th>percent_ppl_65_yrs_old_without_hlth_insr_qrt</th>\n",
       "      <th>percent_ppl_65_yrs_old_without_hlth_insr_pct</th>\n",
       "      <th>unemp_rate_16_yrs_older_qrt</th>\n",
       "      <th>unemp_rate_16_yrs_older</th>\n",
       "      <th>bad_debt_tot_func_exp_pct</th>\n",
       "    </tr>\n",
       "  </thead>\n",
       "  <tbody>\n",
       "    <tr>\n",
       "      <th>0</th>\n",
       "      <td>1</td>\n",
       "      <td>630307951</td>\n",
       "      <td>99</td>\n",
       "      <td>10007</td>\n",
       "      <td>12</td>\n",
       "      <td>2021</td>\n",
       "      <td>1</td>\n",
       "      <td>24548253</td>\n",
       "      <td>26350803</td>\n",
       "      <td>399634</td>\n",
       "      <td>...</td>\n",
       "      <td>37930</td>\n",
       "      <td>1</td>\n",
       "      <td>43544</td>\n",
       "      <td>4</td>\n",
       "      <td>17.1</td>\n",
       "      <td>3</td>\n",
       "      <td>12.5</td>\n",
       "      <td>1</td>\n",
       "      <td>3.0</td>\n",
       "      <td>13.718381</td>\n",
       "    </tr>\n",
       "    <tr>\n",
       "      <th>1</th>\n",
       "      <td>2</td>\n",
       "      <td>630578923</td>\n",
       "      <td>362</td>\n",
       "      <td>10011</td>\n",
       "      <td>24</td>\n",
       "      <td>2021</td>\n",
       "      <td>1</td>\n",
       "      <td>269655098</td>\n",
       "      <td>247421803</td>\n",
       "      <td>14530957</td>\n",
       "      <td>...</td>\n",
       "      <td>58424</td>\n",
       "      <td>3</td>\n",
       "      <td>57802</td>\n",
       "      <td>3</td>\n",
       "      <td>14.4</td>\n",
       "      <td>2</td>\n",
       "      <td>10.7</td>\n",
       "      <td>2</td>\n",
       "      <td>3.6</td>\n",
       "      <td>1.065159</td>\n",
       "    </tr>\n",
       "    <tr>\n",
       "      <th>2</th>\n",
       "      <td>3</td>\n",
       "      <td>630312913</td>\n",
       "      <td>252</td>\n",
       "      <td>10016</td>\n",
       "      <td>36</td>\n",
       "      <td>2021</td>\n",
       "      <td>5</td>\n",
       "      <td>6138054</td>\n",
       "      <td>18093135</td>\n",
       "      <td>6276227</td>\n",
       "      <td>...</td>\n",
       "      <td>59588</td>\n",
       "      <td>4</td>\n",
       "      <td>88444</td>\n",
       "      <td>1</td>\n",
       "      <td>7.0</td>\n",
       "      <td>2</td>\n",
       "      <td>8.7</td>\n",
       "      <td>1</td>\n",
       "      <td>2.1</td>\n",
       "      <td>86.370077</td>\n",
       "    </tr>\n",
       "    <tr>\n",
       "      <th>3</th>\n",
       "      <td>4</td>\n",
       "      <td>630459034</td>\n",
       "      <td>106</td>\n",
       "      <td>10018</td>\n",
       "      <td>39</td>\n",
       "      <td>2012</td>\n",
       "      <td>1</td>\n",
       "      <td>7281976</td>\n",
       "      <td>7873057</td>\n",
       "      <td>848514</td>\n",
       "      <td>...</td>\n",
       "      <td>45622</td>\n",
       "      <td>3</td>\n",
       "      <td>43967</td>\n",
       "      <td>3</td>\n",
       "      <td>18.6</td>\n",
       "      <td>2</td>\n",
       "      <td>14.5</td>\n",
       "      <td>2</td>\n",
       "      <td>6.8</td>\n",
       "      <td>1.481425</td>\n",
       "    </tr>\n",
       "    <tr>\n",
       "      <th>4</th>\n",
       "      <td>5</td>\n",
       "      <td>581973570</td>\n",
       "      <td>60</td>\n",
       "      <td>10022</td>\n",
       "      <td>43</td>\n",
       "      <td>2021</td>\n",
       "      <td>2</td>\n",
       "      <td>336272925</td>\n",
       "      <td>261011061</td>\n",
       "      <td>21995495</td>\n",
       "      <td>...</td>\n",
       "      <td>37869</td>\n",
       "      <td>2</td>\n",
       "      <td>50388</td>\n",
       "      <td>3</td>\n",
       "      <td>14.7</td>\n",
       "      <td>3</td>\n",
       "      <td>13.0</td>\n",
       "      <td>1</td>\n",
       "      <td>2.5</td>\n",
       "      <td>3.750702</td>\n",
       "    </tr>\n",
       "    <tr>\n",
       "      <th>...</th>\n",
       "      <td>...</td>\n",
       "      <td>...</td>\n",
       "      <td>...</td>\n",
       "      <td>...</td>\n",
       "      <td>...</td>\n",
       "      <td>...</td>\n",
       "      <td>...</td>\n",
       "      <td>...</td>\n",
       "      <td>...</td>\n",
       "      <td>...</td>\n",
       "      <td>...</td>\n",
       "      <td>...</td>\n",
       "      <td>...</td>\n",
       "      <td>...</td>\n",
       "      <td>...</td>\n",
       "      <td>...</td>\n",
       "      <td>...</td>\n",
       "      <td>...</td>\n",
       "      <td>...</td>\n",
       "      <td>...</td>\n",
       "      <td>...</td>\n",
       "    </tr>\n",
       "    <tr>\n",
       "      <th>3486</th>\n",
       "      <td>3487</td>\n",
       "      <td>813040663</td>\n",
       "      <td>16</td>\n",
       "      <td>670136</td>\n",
       "      <td>36264</td>\n",
       "      <td>2021</td>\n",
       "      <td>3</td>\n",
       "      <td>97887005</td>\n",
       "      <td>96294245</td>\n",
       "      <td>9631051</td>\n",
       "      <td>...</td>\n",
       "      <td>74032</td>\n",
       "      <td>4</td>\n",
       "      <td>82605</td>\n",
       "      <td>2</td>\n",
       "      <td>10.2</td>\n",
       "      <td>4</td>\n",
       "      <td>16.5</td>\n",
       "      <td>2</td>\n",
       "      <td>4.0</td>\n",
       "      <td>9.919405</td>\n",
       "    </tr>\n",
       "    <tr>\n",
       "      <th>3487</th>\n",
       "      <td>3488</td>\n",
       "      <td>741109643</td>\n",
       "      <td>7</td>\n",
       "      <td>670143</td>\n",
       "      <td>36267</td>\n",
       "      <td>2021</td>\n",
       "      <td>14</td>\n",
       "      <td>2379013884</td>\n",
       "      <td>2846977586</td>\n",
       "      <td>179871173</td>\n",
       "      <td>...</td>\n",
       "      <td>42177</td>\n",
       "      <td>4</td>\n",
       "      <td>74612</td>\n",
       "      <td>2</td>\n",
       "      <td>10.8</td>\n",
       "      <td>4</td>\n",
       "      <td>22.7</td>\n",
       "      <td>3</td>\n",
       "      <td>4.5</td>\n",
       "      <td>2.104334</td>\n",
       "    </tr>\n",
       "    <tr>\n",
       "      <th>3488</th>\n",
       "      <td>3489</td>\n",
       "      <td>831954982</td>\n",
       "      <td>63</td>\n",
       "      <td>670260</td>\n",
       "      <td>36270</td>\n",
       "      <td>2021</td>\n",
       "      <td>1</td>\n",
       "      <td>121669224</td>\n",
       "      <td>130956692</td>\n",
       "      <td>5122144</td>\n",
       "      <td>...</td>\n",
       "      <td>63283</td>\n",
       "      <td>4</td>\n",
       "      <td>90880</td>\n",
       "      <td>1</td>\n",
       "      <td>6.9</td>\n",
       "      <td>3</td>\n",
       "      <td>13.4</td>\n",
       "      <td>2</td>\n",
       "      <td>4.4</td>\n",
       "      <td>12.712880</td>\n",
       "    </tr>\n",
       "    <tr>\n",
       "      <th>3489</th>\n",
       "      <td>3490</td>\n",
       "      <td>750800661</td>\n",
       "      <td>46</td>\n",
       "      <td>670300</td>\n",
       "      <td>36272</td>\n",
       "      <td>2021</td>\n",
       "      <td>9</td>\n",
       "      <td>1636296370</td>\n",
       "      <td>1856448774</td>\n",
       "      <td>222654822</td>\n",
       "      <td>...</td>\n",
       "      <td>49333</td>\n",
       "      <td>4</td>\n",
       "      <td>79849</td>\n",
       "      <td>1</td>\n",
       "      <td>7.9</td>\n",
       "      <td>4</td>\n",
       "      <td>18.9</td>\n",
       "      <td>3</td>\n",
       "      <td>4.5</td>\n",
       "      <td>14.660452</td>\n",
       "    </tr>\n",
       "    <tr>\n",
       "      <th>3490</th>\n",
       "      <td>3491</td>\n",
       "      <td>831869297</td>\n",
       "      <td>59</td>\n",
       "      <td>670309</td>\n",
       "      <td>36273</td>\n",
       "      <td>2021</td>\n",
       "      <td>1</td>\n",
       "      <td>64198730</td>\n",
       "      <td>33017334</td>\n",
       "      <td>8908107</td>\n",
       "      <td>...</td>\n",
       "      <td>55615</td>\n",
       "      <td>4</td>\n",
       "      <td>72064</td>\n",
       "      <td>2</td>\n",
       "      <td>10.5</td>\n",
       "      <td>4</td>\n",
       "      <td>18.9</td>\n",
       "      <td>3</td>\n",
       "      <td>5.3</td>\n",
       "      <td>9.088709</td>\n",
       "    </tr>\n",
       "  </tbody>\n",
       "</table>\n",
       "<p>3491 rows × 32 columns</p>\n",
       "</div>"
      ],
      "text/plain": [
       "      hospital_id        ein  hospital_bed_count  medicare_provider_number  \\\n",
       "0               1  630307951                  99                     10007   \n",
       "1               2  630578923                 362                     10011   \n",
       "2               3  630312913                 252                     10016   \n",
       "3               4  630459034                 106                     10018   \n",
       "4               5  581973570                  60                     10022   \n",
       "...           ...        ...                 ...                       ...   \n",
       "3486         3487  813040663                  16                    670136   \n",
       "3487         3488  741109643                   7                    670143   \n",
       "3488         3489  831954982                  63                    670260   \n",
       "3489         3490  750800661                  46                    670300   \n",
       "3490         3491  831869297                  59                    670309   \n",
       "\n",
       "      hospital_data_id  fiscal_yr  form_990_num_fac_oper  tot_func_exp  \\\n",
       "0                   12       2021                      1      24548253   \n",
       "1                   24       2021                      1     269655098   \n",
       "2                   36       2021                      5       6138054   \n",
       "3                   39       2012                      1       7281976   \n",
       "4                   43       2021                      2     336272925   \n",
       "...                ...        ...                    ...           ...   \n",
       "3486             36264       2021                      3      97887005   \n",
       "3487             36267       2021                     14    2379013884   \n",
       "3488             36270       2021                      1     121669224   \n",
       "3489             36272       2021                      9    1636296370   \n",
       "3490             36273       2021                      1      64198730   \n",
       "\n",
       "      tot_revenue  tot_comm_bnfts  ...  per_capita_inc  med_hsehld_inc_qrt  \\\n",
       "0        26350803          399634  ...           37930                   1   \n",
       "1       247421803        14530957  ...           58424                   3   \n",
       "2        18093135         6276227  ...           59588                   4   \n",
       "3         7873057          848514  ...           45622                   3   \n",
       "4       261011061        21995495  ...           37869                   2   \n",
       "...           ...             ...  ...             ...                 ...   \n",
       "3486     96294245         9631051  ...           74032                   4   \n",
       "3487   2846977586       179871173  ...           42177                   4   \n",
       "3488    130956692         5122144  ...           63283                   4   \n",
       "3489   1856448774       222654822  ...           49333                   4   \n",
       "3490     33017334         8908107  ...           55615                   4   \n",
       "\n",
       "      med_hsehld_inc  percent_ppl_pov_qrt  percent_ppl_pov_pct  \\\n",
       "0              43544                    4                 17.1   \n",
       "1              57802                    3                 14.4   \n",
       "2              88444                    1                  7.0   \n",
       "3              43967                    3                 18.6   \n",
       "4              50388                    3                 14.7   \n",
       "...              ...                  ...                  ...   \n",
       "3486           82605                    2                 10.2   \n",
       "3487           74612                    2                 10.8   \n",
       "3488           90880                    1                  6.9   \n",
       "3489           79849                    1                  7.9   \n",
       "3490           72064                    2                 10.5   \n",
       "\n",
       "      percent_ppl_65_yrs_old_without_hlth_insr_qrt  \\\n",
       "0                                                3   \n",
       "1                                                2   \n",
       "2                                                2   \n",
       "3                                                2   \n",
       "4                                                3   \n",
       "...                                            ...   \n",
       "3486                                             4   \n",
       "3487                                             4   \n",
       "3488                                             3   \n",
       "3489                                             4   \n",
       "3490                                             4   \n",
       "\n",
       "      percent_ppl_65_yrs_old_without_hlth_insr_pct  \\\n",
       "0                                             12.5   \n",
       "1                                             10.7   \n",
       "2                                              8.7   \n",
       "3                                             14.5   \n",
       "4                                             13.0   \n",
       "...                                            ...   \n",
       "3486                                          16.5   \n",
       "3487                                          22.7   \n",
       "3488                                          13.4   \n",
       "3489                                          18.9   \n",
       "3490                                          18.9   \n",
       "\n",
       "      unemp_rate_16_yrs_older_qrt  unemp_rate_16_yrs_older  \\\n",
       "0                               1                      3.0   \n",
       "1                               2                      3.6   \n",
       "2                               1                      2.1   \n",
       "3                               2                      6.8   \n",
       "4                               1                      2.5   \n",
       "...                           ...                      ...   \n",
       "3486                            2                      4.0   \n",
       "3487                            3                      4.5   \n",
       "3488                            2                      4.4   \n",
       "3489                            3                      4.5   \n",
       "3490                            3                      5.3   \n",
       "\n",
       "      bad_debt_tot_func_exp_pct  \n",
       "0                     13.718381  \n",
       "1                      1.065159  \n",
       "2                     86.370077  \n",
       "3                      1.481425  \n",
       "4                      3.750702  \n",
       "...                         ...  \n",
       "3486                   9.919405  \n",
       "3487                   2.104334  \n",
       "3488                  12.712880  \n",
       "3489                  14.660452  \n",
       "3490                   9.088709  \n",
       "\n",
       "[3491 rows x 32 columns]"
      ]
     },
     "execution_count": 135,
     "metadata": {},
     "output_type": "execute_result"
    }
   ],
   "source": [
    "cols_at_end = ['bad_debt_tot_func_exp_pct']\n",
    "copy_data = copy_data[[c for c in copy_data if c not in cols_at_end] \n",
    "        + [c for c in cols_at_end if c in copy_data]]\n",
    "\n",
    "copy_data"
   ]
  },
  {
   "cell_type": "code",
   "execution_count": 136,
   "metadata": {},
   "outputs": [
    {
     "data": {
      "text/plain": [
       "0       13.718381\n",
       "1        1.065159\n",
       "2       86.370077\n",
       "3        1.481425\n",
       "4        3.750702\n",
       "          ...    \n",
       "3486     9.919405\n",
       "3487     2.104334\n",
       "3488    12.712880\n",
       "3489    14.660452\n",
       "3490     9.088709\n",
       "Name: bad_debt_tot_func_exp_pct, Length: 3491, dtype: float64"
      ]
     },
     "execution_count": 136,
     "metadata": {},
     "output_type": "execute_result"
    }
   ],
   "source": [
    "y = copy_data[\"bad_debt_tot_func_exp_pct\"]\n",
    "y"
   ]
  },
  {
   "cell_type": "code",
   "execution_count": 137,
   "metadata": {},
   "outputs": [],
   "source": [
    "copy_data.drop([\"bad_debt_tot_func_exp_pct\"], inplace=True, axis='columns')\n",
    "copy_data\n",
    "X = copy_data"
   ]
  },
  {
   "cell_type": "markdown",
   "metadata": {},
   "source": [
    "Secondly, we will spilt it into 02 data sets (train and test)"
   ]
  },
  {
   "cell_type": "code",
   "execution_count": 138,
   "metadata": {},
   "outputs": [],
   "source": [
    "X_train, X_test, y_train, y_test = train_test_split(X, y,test_size=0.2)\n"
   ]
  },
  {
   "cell_type": "code",
   "execution_count": 139,
   "metadata": {},
   "outputs": [
    {
     "data": {
      "text/html": [
       "<div>\n",
       "<style scoped>\n",
       "    .dataframe tbody tr th:only-of-type {\n",
       "        vertical-align: middle;\n",
       "    }\n",
       "\n",
       "    .dataframe tbody tr th {\n",
       "        vertical-align: top;\n",
       "    }\n",
       "\n",
       "    .dataframe thead th {\n",
       "        text-align: right;\n",
       "    }\n",
       "</style>\n",
       "<table border=\"1\" class=\"dataframe\">\n",
       "  <thead>\n",
       "    <tr style=\"text-align: right;\">\n",
       "      <th></th>\n",
       "      <th>hospital_id</th>\n",
       "      <th>ein</th>\n",
       "      <th>hospital_bed_count</th>\n",
       "      <th>medicare_provider_number</th>\n",
       "      <th>hospital_data_id</th>\n",
       "      <th>fiscal_yr</th>\n",
       "      <th>form_990_num_fac_oper</th>\n",
       "      <th>tot_func_exp</th>\n",
       "      <th>tot_revenue</th>\n",
       "      <th>tot_comm_bnfts</th>\n",
       "      <th>...</th>\n",
       "      <th>per_capita_inc_qrt</th>\n",
       "      <th>per_capita_inc</th>\n",
       "      <th>med_hsehld_inc_qrt</th>\n",
       "      <th>med_hsehld_inc</th>\n",
       "      <th>percent_ppl_pov_qrt</th>\n",
       "      <th>percent_ppl_pov_pct</th>\n",
       "      <th>percent_ppl_65_yrs_old_without_hlth_insr_qrt</th>\n",
       "      <th>percent_ppl_65_yrs_old_without_hlth_insr_pct</th>\n",
       "      <th>unemp_rate_16_yrs_older_qrt</th>\n",
       "      <th>unemp_rate_16_yrs_older</th>\n",
       "    </tr>\n",
       "  </thead>\n",
       "  <tbody>\n",
       "    <tr>\n",
       "      <th>2316</th>\n",
       "      <td>2317</td>\n",
       "      <td>900640432</td>\n",
       "      <td>1093</td>\n",
       "      <td>360020</td>\n",
       "      <td>24277</td>\n",
       "      <td>2021</td>\n",
       "      <td>2</td>\n",
       "      <td>1384761934</td>\n",
       "      <td>1396622299</td>\n",
       "      <td>178058351</td>\n",
       "      <td>...</td>\n",
       "      <td>4</td>\n",
       "      <td>56821</td>\n",
       "      <td>3</td>\n",
       "      <td>60715</td>\n",
       "      <td>2</td>\n",
       "      <td>12.1</td>\n",
       "      <td>1</td>\n",
       "      <td>8.0</td>\n",
       "      <td>3</td>\n",
       "      <td>5.4</td>\n",
       "    </tr>\n",
       "    <tr>\n",
       "      <th>2739</th>\n",
       "      <td>2740</td>\n",
       "      <td>240798681</td>\n",
       "      <td>25</td>\n",
       "      <td>391309</td>\n",
       "      <td>28543</td>\n",
       "      <td>2021</td>\n",
       "      <td>1</td>\n",
       "      <td>21291676</td>\n",
       "      <td>22696065</td>\n",
       "      <td>1600524</td>\n",
       "      <td>...</td>\n",
       "      <td>3</td>\n",
       "      <td>49114</td>\n",
       "      <td>3</td>\n",
       "      <td>55560</td>\n",
       "      <td>2</td>\n",
       "      <td>11.6</td>\n",
       "      <td>2</td>\n",
       "      <td>8.5</td>\n",
       "      <td>3</td>\n",
       "      <td>5.5</td>\n",
       "    </tr>\n",
       "    <tr>\n",
       "      <th>2767</th>\n",
       "      <td>2768</td>\n",
       "      <td>570341194</td>\n",
       "      <td>131</td>\n",
       "      <td>420020</td>\n",
       "      <td>28825</td>\n",
       "      <td>2021</td>\n",
       "      <td>1</td>\n",
       "      <td>193244262</td>\n",
       "      <td>221697740</td>\n",
       "      <td>9749898</td>\n",
       "      <td>...</td>\n",
       "      <td>3</td>\n",
       "      <td>51775</td>\n",
       "      <td>3</td>\n",
       "      <td>57991</td>\n",
       "      <td>3</td>\n",
       "      <td>15.1</td>\n",
       "      <td>3</td>\n",
       "      <td>14.2</td>\n",
       "      <td>3</td>\n",
       "      <td>4.8</td>\n",
       "    </tr>\n",
       "    <tr>\n",
       "      <th>2929</th>\n",
       "      <td>2930</td>\n",
       "      <td>750800661</td>\n",
       "      <td>478</td>\n",
       "      <td>450051</td>\n",
       "      <td>30444</td>\n",
       "      <td>2021</td>\n",
       "      <td>9</td>\n",
       "      <td>1636296370</td>\n",
       "      <td>1856448774</td>\n",
       "      <td>222654822</td>\n",
       "      <td>...</td>\n",
       "      <td>4</td>\n",
       "      <td>65401</td>\n",
       "      <td>4</td>\n",
       "      <td>65770</td>\n",
       "      <td>3</td>\n",
       "      <td>13.7</td>\n",
       "      <td>4</td>\n",
       "      <td>25.1</td>\n",
       "      <td>3</td>\n",
       "      <td>5.6</td>\n",
       "    </tr>\n",
       "    <tr>\n",
       "      <th>3155</th>\n",
       "      <td>3156</td>\n",
       "      <td>621636465</td>\n",
       "      <td>118</td>\n",
       "      <td>490027</td>\n",
       "      <td>32756</td>\n",
       "      <td>2021</td>\n",
       "      <td>6</td>\n",
       "      <td>797824334</td>\n",
       "      <td>845523767</td>\n",
       "      <td>50636852</td>\n",
       "      <td>...</td>\n",
       "      <td>0</td>\n",
       "      <td>0</td>\n",
       "      <td>1</td>\n",
       "      <td>36004</td>\n",
       "      <td>4</td>\n",
       "      <td>20.5</td>\n",
       "      <td>2</td>\n",
       "      <td>8.2</td>\n",
       "      <td>3</td>\n",
       "      <td>4.9</td>\n",
       "    </tr>\n",
       "  </tbody>\n",
       "</table>\n",
       "<p>5 rows × 31 columns</p>\n",
       "</div>"
      ],
      "text/plain": [
       "      hospital_id        ein  hospital_bed_count  medicare_provider_number  \\\n",
       "2316         2317  900640432                1093                    360020   \n",
       "2739         2740  240798681                  25                    391309   \n",
       "2767         2768  570341194                 131                    420020   \n",
       "2929         2930  750800661                 478                    450051   \n",
       "3155         3156  621636465                 118                    490027   \n",
       "\n",
       "      hospital_data_id  fiscal_yr  form_990_num_fac_oper  tot_func_exp  \\\n",
       "2316             24277       2021                      2    1384761934   \n",
       "2739             28543       2021                      1      21291676   \n",
       "2767             28825       2021                      1     193244262   \n",
       "2929             30444       2021                      9    1636296370   \n",
       "3155             32756       2021                      6     797824334   \n",
       "\n",
       "      tot_revenue  tot_comm_bnfts  ...  per_capita_inc_qrt  per_capita_inc  \\\n",
       "2316   1396622299       178058351  ...                   4           56821   \n",
       "2739     22696065         1600524  ...                   3           49114   \n",
       "2767    221697740         9749898  ...                   3           51775   \n",
       "2929   1856448774       222654822  ...                   4           65401   \n",
       "3155    845523767        50636852  ...                   0               0   \n",
       "\n",
       "      med_hsehld_inc_qrt  med_hsehld_inc  percent_ppl_pov_qrt  \\\n",
       "2316                   3           60715                    2   \n",
       "2739                   3           55560                    2   \n",
       "2767                   3           57991                    3   \n",
       "2929                   4           65770                    3   \n",
       "3155                   1           36004                    4   \n",
       "\n",
       "      percent_ppl_pov_pct  percent_ppl_65_yrs_old_without_hlth_insr_qrt  \\\n",
       "2316                 12.1                                             1   \n",
       "2739                 11.6                                             2   \n",
       "2767                 15.1                                             3   \n",
       "2929                 13.7                                             4   \n",
       "3155                 20.5                                             2   \n",
       "\n",
       "      percent_ppl_65_yrs_old_without_hlth_insr_pct  \\\n",
       "2316                                           8.0   \n",
       "2739                                           8.5   \n",
       "2767                                          14.2   \n",
       "2929                                          25.1   \n",
       "3155                                           8.2   \n",
       "\n",
       "      unemp_rate_16_yrs_older_qrt  unemp_rate_16_yrs_older  \n",
       "2316                            3                      5.4  \n",
       "2739                            3                      5.5  \n",
       "2767                            3                      4.8  \n",
       "2929                            3                      5.6  \n",
       "3155                            3                      4.9  \n",
       "\n",
       "[5 rows x 31 columns]"
      ]
     },
     "execution_count": 139,
     "metadata": {},
     "output_type": "execute_result"
    }
   ],
   "source": [
    "X_train.head()"
   ]
  },
  {
   "cell_type": "code",
   "execution_count": 140,
   "metadata": {},
   "outputs": [
    {
     "data": {
      "text/plain": [
       "2316     0.874518\n",
       "2739     8.031904\n",
       "2767     3.380409\n",
       "2929    14.660452\n",
       "3155     2.221214\n",
       "Name: bad_debt_tot_func_exp_pct, dtype: float64"
      ]
     },
     "execution_count": 140,
     "metadata": {},
     "output_type": "execute_result"
    }
   ],
   "source": [
    "y_train.head()"
   ]
  },
  {
   "cell_type": "code",
   "execution_count": 141,
   "metadata": {},
   "outputs": [
    {
     "data": {
      "text/html": [
       "<div>\n",
       "<style scoped>\n",
       "    .dataframe tbody tr th:only-of-type {\n",
       "        vertical-align: middle;\n",
       "    }\n",
       "\n",
       "    .dataframe tbody tr th {\n",
       "        vertical-align: top;\n",
       "    }\n",
       "\n",
       "    .dataframe thead th {\n",
       "        text-align: right;\n",
       "    }\n",
       "</style>\n",
       "<table border=\"1\" class=\"dataframe\">\n",
       "  <thead>\n",
       "    <tr style=\"text-align: right;\">\n",
       "      <th></th>\n",
       "      <th>hospital_id</th>\n",
       "      <th>ein</th>\n",
       "      <th>hospital_bed_count</th>\n",
       "      <th>medicare_provider_number</th>\n",
       "      <th>hospital_data_id</th>\n",
       "      <th>fiscal_yr</th>\n",
       "      <th>form_990_num_fac_oper</th>\n",
       "      <th>tot_func_exp</th>\n",
       "      <th>tot_revenue</th>\n",
       "      <th>tot_comm_bnfts</th>\n",
       "      <th>...</th>\n",
       "      <th>per_capita_inc_qrt</th>\n",
       "      <th>per_capita_inc</th>\n",
       "      <th>med_hsehld_inc_qrt</th>\n",
       "      <th>med_hsehld_inc</th>\n",
       "      <th>percent_ppl_pov_qrt</th>\n",
       "      <th>percent_ppl_pov_pct</th>\n",
       "      <th>percent_ppl_65_yrs_old_without_hlth_insr_qrt</th>\n",
       "      <th>percent_ppl_65_yrs_old_without_hlth_insr_pct</th>\n",
       "      <th>unemp_rate_16_yrs_older_qrt</th>\n",
       "      <th>unemp_rate_16_yrs_older</th>\n",
       "    </tr>\n",
       "  </thead>\n",
       "  <tbody>\n",
       "    <tr>\n",
       "      <th>3036</th>\n",
       "      <td>3037</td>\n",
       "      <td>741356589</td>\n",
       "      <td>58</td>\n",
       "      <td>450824</td>\n",
       "      <td>31478</td>\n",
       "      <td>2011</td>\n",
       "      <td>7</td>\n",
       "      <td>31816283</td>\n",
       "      <td>84420606</td>\n",
       "      <td>40555947</td>\n",
       "      <td>...</td>\n",
       "      <td>4</td>\n",
       "      <td>48649</td>\n",
       "      <td>4</td>\n",
       "      <td>53303</td>\n",
       "      <td>3</td>\n",
       "      <td>18.1</td>\n",
       "      <td>4</td>\n",
       "      <td>22.4</td>\n",
       "      <td>2</td>\n",
       "      <td>6.6</td>\n",
       "    </tr>\n",
       "    <tr>\n",
       "      <th>875</th>\n",
       "      <td>876</td>\n",
       "      <td>370663568</td>\n",
       "      <td>25</td>\n",
       "      <td>141336</td>\n",
       "      <td>9134</td>\n",
       "      <td>2021</td>\n",
       "      <td>1</td>\n",
       "      <td>42949575</td>\n",
       "      <td>52229600</td>\n",
       "      <td>1069344</td>\n",
       "      <td>...</td>\n",
       "      <td>3</td>\n",
       "      <td>51433</td>\n",
       "      <td>3</td>\n",
       "      <td>63903</td>\n",
       "      <td>2</td>\n",
       "      <td>11.0</td>\n",
       "      <td>1</td>\n",
       "      <td>6.4</td>\n",
       "      <td>3</td>\n",
       "      <td>4.9</td>\n",
       "    </tr>\n",
       "    <tr>\n",
       "      <th>570</th>\n",
       "      <td>571</td>\n",
       "      <td>822567308</td>\n",
       "      <td>120</td>\n",
       "      <td>100211</td>\n",
       "      <td>5864</td>\n",
       "      <td>2021</td>\n",
       "      <td>1</td>\n",
       "      <td>75031465</td>\n",
       "      <td>75746420</td>\n",
       "      <td>11313648</td>\n",
       "      <td>...</td>\n",
       "      <td>2</td>\n",
       "      <td>45461</td>\n",
       "      <td>2</td>\n",
       "      <td>52332</td>\n",
       "      <td>2</td>\n",
       "      <td>11.4</td>\n",
       "      <td>4</td>\n",
       "      <td>15.7</td>\n",
       "      <td>2</td>\n",
       "      <td>4.4</td>\n",
       "    </tr>\n",
       "    <tr>\n",
       "      <th>299</th>\n",
       "      <td>300</td>\n",
       "      <td>941044474</td>\n",
       "      <td>85</td>\n",
       "      <td>50442</td>\n",
       "      <td>3075</td>\n",
       "      <td>2012</td>\n",
       "      <td>2</td>\n",
       "      <td>194919985</td>\n",
       "      <td>192968149</td>\n",
       "      <td>9727001</td>\n",
       "      <td>...</td>\n",
       "      <td>2</td>\n",
       "      <td>34345</td>\n",
       "      <td>4</td>\n",
       "      <td>50431</td>\n",
       "      <td>3</td>\n",
       "      <td>18.5</td>\n",
       "      <td>3</td>\n",
       "      <td>19.5</td>\n",
       "      <td>4</td>\n",
       "      <td>15.2</td>\n",
       "    </tr>\n",
       "    <tr>\n",
       "      <th>156</th>\n",
       "      <td>157</td>\n",
       "      <td>463851119</td>\n",
       "      <td>25</td>\n",
       "      <td>41318</td>\n",
       "      <td>1509</td>\n",
       "      <td>2021</td>\n",
       "      <td>1</td>\n",
       "      <td>15588916</td>\n",
       "      <td>17548039</td>\n",
       "      <td>327696</td>\n",
       "      <td>...</td>\n",
       "      <td>1</td>\n",
       "      <td>34433</td>\n",
       "      <td>1</td>\n",
       "      <td>43577</td>\n",
       "      <td>3</td>\n",
       "      <td>15.8</td>\n",
       "      <td>2</td>\n",
       "      <td>10.1</td>\n",
       "      <td>2</td>\n",
       "      <td>4.2</td>\n",
       "    </tr>\n",
       "  </tbody>\n",
       "</table>\n",
       "<p>5 rows × 31 columns</p>\n",
       "</div>"
      ],
      "text/plain": [
       "      hospital_id        ein  hospital_bed_count  medicare_provider_number  \\\n",
       "3036         3037  741356589                  58                    450824   \n",
       "875           876  370663568                  25                    141336   \n",
       "570           571  822567308                 120                    100211   \n",
       "299           300  941044474                  85                     50442   \n",
       "156           157  463851119                  25                     41318   \n",
       "\n",
       "      hospital_data_id  fiscal_yr  form_990_num_fac_oper  tot_func_exp  \\\n",
       "3036             31478       2011                      7      31816283   \n",
       "875               9134       2021                      1      42949575   \n",
       "570               5864       2021                      1      75031465   \n",
       "299               3075       2012                      2     194919985   \n",
       "156               1509       2021                      1      15588916   \n",
       "\n",
       "      tot_revenue  tot_comm_bnfts  ...  per_capita_inc_qrt  per_capita_inc  \\\n",
       "3036     84420606        40555947  ...                   4           48649   \n",
       "875      52229600         1069344  ...                   3           51433   \n",
       "570      75746420        11313648  ...                   2           45461   \n",
       "299     192968149         9727001  ...                   2           34345   \n",
       "156      17548039          327696  ...                   1           34433   \n",
       "\n",
       "      med_hsehld_inc_qrt  med_hsehld_inc  percent_ppl_pov_qrt  \\\n",
       "3036                   4           53303                    3   \n",
       "875                    3           63903                    2   \n",
       "570                    2           52332                    2   \n",
       "299                    4           50431                    3   \n",
       "156                    1           43577                    3   \n",
       "\n",
       "      percent_ppl_pov_pct  percent_ppl_65_yrs_old_without_hlth_insr_qrt  \\\n",
       "3036                 18.1                                             4   \n",
       "875                  11.0                                             1   \n",
       "570                  11.4                                             4   \n",
       "299                  18.5                                             3   \n",
       "156                  15.8                                             2   \n",
       "\n",
       "      percent_ppl_65_yrs_old_without_hlth_insr_pct  \\\n",
       "3036                                          22.4   \n",
       "875                                            6.4   \n",
       "570                                           15.7   \n",
       "299                                           19.5   \n",
       "156                                           10.1   \n",
       "\n",
       "      unemp_rate_16_yrs_older_qrt  unemp_rate_16_yrs_older  \n",
       "3036                            2                      6.6  \n",
       "875                             3                      4.9  \n",
       "570                             2                      4.4  \n",
       "299                             4                     15.2  \n",
       "156                             2                      4.2  \n",
       "\n",
       "[5 rows x 31 columns]"
      ]
     },
     "execution_count": 141,
     "metadata": {},
     "output_type": "execute_result"
    }
   ],
   "source": [
    "X_test.head()"
   ]
  },
  {
   "cell_type": "code",
   "execution_count": 142,
   "metadata": {},
   "outputs": [
    {
     "data": {
      "text/plain": [
       "3036    13.390317\n",
       "875      0.000000\n",
       "570      9.483966\n",
       "299      1.634681\n",
       "156      3.211609\n",
       "Name: bad_debt_tot_func_exp_pct, dtype: float64"
      ]
     },
     "execution_count": 142,
     "metadata": {},
     "output_type": "execute_result"
    }
   ],
   "source": [
    "y_test.head()"
   ]
  },
  {
   "cell_type": "markdown",
   "metadata": {},
   "source": [
    "## Feature engineering"
   ]
  },
  {
   "cell_type": "markdown",
   "metadata": {},
   "source": [
    "We will find some good features for training"
   ]
  },
  {
   "cell_type": "markdown",
   "metadata": {},
   "source": [
    "### Model 1: using some tools"
   ]
  },
  {
   "cell_type": "markdown",
   "metadata": {},
   "source": [
    "Firstly, we will eleminate some redundant by repeated-KFold"
   ]
  },
  {
   "cell_type": "code",
   "execution_count": null,
   "metadata": {},
   "outputs": [],
   "source": [
    "# YOUR CODE HERE (OPTION)\n",
    "avg_mutual = 0\n",
    "for i in range(5):\n",
    "    cv = RepeatedKFold(n_splits=10, n_repeats=3, random_state=1)\n",
    "\n",
    "    model = LinearRegression()\n",
    "    fs = SelectKBest(score_func=mutual_info_regression)\n",
    "    pipeline = Pipeline(steps=[('sel',fs), ('lr', model)])\n",
    "\n",
    "    grid = dict()\n",
    "    grid['sel__k'] = [i for i in range(X_train.shape[1]-20, X_train.shape[1]+1)]\n",
    "\n",
    "    search = GridSearchCV(pipeline, grid, scoring='neg_mean_squared_error', n_jobs=-1, cv=cv)\n",
    "\n",
    "    results = search.fit(X_train, y_train)\n",
    "\n",
    "    #print('Best MAE: %.3f' % results.best_score_)\n",
    "    best_config = results.best_params_\n",
    "    best_sel_k = best_config['sel__k']\n",
    "    avg_mutual += int(best_sel_k)\n",
    "print('Best Config for mutual: %s' % int(avg_mutual / 5))\n",
    "#############################################################\n",
    "\n",
    "avg_col = 0\n",
    "for i in range(5):\n",
    "    cv = RepeatedKFold(n_splits=10, n_repeats=3, random_state=1)\n",
    "\n",
    "    model = LinearRegression()\n",
    "    fs = SelectKBest(score_func=f_regression)\n",
    "    pipeline = Pipeline(steps=[('sel',fs), ('lr', model)])\n",
    "\n",
    "    grid = dict()\n",
    "    grid['sel__k'] = [i for i in range(X_train.shape[1]-20, X_train.shape[1]+1)]\n",
    "\n",
    "    search = GridSearchCV(pipeline, grid, scoring='neg_mean_squared_error', n_jobs=-1, cv=cv)\n",
    "\n",
    "    results = search.fit(X_train, y_train)\n",
    "\n",
    "    #print('Best MAE: %.3f' % results.best_score_)\n",
    "    best_config = results.best_params_\n",
    "    best_sel_k = best_config['sel__k']\n",
    "    avg_col += int(best_sel_k)\n",
    "print('Best Config for correlation: %s' % int(avg_col / 5))"
   ]
  },
  {
   "cell_type": "code",
   "execution_count": null,
   "metadata": {},
   "outputs": [],
   "source": [
    "# model_gb = GradientBoostingRegressor(n_estimators=100, learning_rate=0.1, max_depth=3, random_state=42)\n",
    "\n",
    "# model_gb.fit(X_train, y_train)\n",
    "# y_pred_gb = model_gb.predict(X_test)\n",
    "\n",
    "\n",
    "# mse_gb = mean_squared_error(y_test, y_pred_gb)\n",
    "# feature_importances = model_gb.feature_importances_\n",
    "\n",
    "# for i, importance in enumerate(feature_importances):\n",
    "#     print(f\"Feature {i}: {importance}\")\n",
    "# print(f'Mean Squared Error (Gradient Boosting): {mse_gb}')"
   ]
  },
  {
   "cell_type": "markdown",
   "metadata": {},
   "source": [
    "Secondly, we will find 03 features"
   ]
  },
  {
   "cell_type": "code",
   "execution_count": 144,
   "metadata": {},
   "outputs": [
    {
     "data": {
      "image/png": "[encoded data removed]",
      "text/plain": [
       "<Figure size 640x480 with 1 Axes>"
      ]
     },
     "metadata": {},
     "output_type": "display_data"
    }
   ],
   "source": [
    "def select_features(X_train, y_train, X_test):\n",
    "\n",
    " fs = SelectKBest(score_func=f_regression, k=int(avg_col / 5))\n",
    "\n",
    " fs.fit(X_train, y_train)\n",
    "\n",
    " X_train_fs = fs.transform(X_train)\n",
    "\n",
    " X_test_fs = fs.transform(X_test)\n",
    " return X_train_fs, X_test_fs, fs\n",
    "\n",
    "\n",
    "X_train_fs, X_test_fs, fs = select_features(X_train, y_train, X_test)\n",
    "\n",
    "feature_names = X_train.columns\n",
    "\n",
    "plt.bar(range(len(fs.scores_)), fs.scores_)\n",
    "\n",
    "plt.xticks(range(len(fs.scores_)), feature_names, rotation='vertical')\n",
    "\n",
    "plt.xlabel('Features')\n",
    "plt.ylabel('Score')\n",
    "plt.title('Feature Scores')\n",
    "\n",
    "plt.show()"
   ]
  },
  {
   "cell_type": "markdown",
   "metadata": {},
   "source": [
    "So, mdcre_shrtfl_tot_func_exp_pct is the first one."
   ]
  },
  {
   "cell_type": "code",
   "execution_count": 148,
   "metadata": {},
   "outputs": [
    {
     "name": "stdout",
     "output_type": "stream",
     "text": [
      "Best Skill: bad_debt\n",
      "MAE for Best Skill: 4.147424729134608\n"
     ]
    }
   ],
   "source": [
    "mae_1 = {}\n",
    "for i in X_train.columns:\n",
    "    tree = DecisionTreeRegressor(random_state=23)\n",
    "    tree.fit(X_train[[i]], y_train)\n",
    "    \n",
    "    # prediction\n",
    "    y_pred = tree.predict(X_test[[i]])\n",
    "    \n",
    "    # compute the regression evaluation metric, e.g., Mean Absolute Error (MAE)\n",
    "    mae = mean_absolute_error(y_test, y_pred)\n",
    "    \n",
    "    mae_1[i] = mae\n",
    "best_skill = min(mae_1, key=mae_1.get)\n",
    "print(f\"Best Skill: {best_skill}\")\n",
    "print(f\"MAE for Best Skill: {mae_1[best_skill]}\")\n"
   ]
  },
  {
   "cell_type": "markdown",
   "metadata": {},
   "source": [
    "bad_debt is the next feature."
   ]
  },
  {
   "cell_type": "code",
   "execution_count": 149,
   "metadata": {},
   "outputs": [
    {
     "name": "stderr",
     "output_type": "stream",
     "text": [
      "c:\\Users\\tttoa\\anaconda3\\envs\\min_ds-env\\lib\\site-packages\\sklearn\\feature_selection\\_base.py:102: UserWarning: No features were selected: either the data is too noisy or the selection test too strict.\n",
      "  warnings.warn(\n",
      "c:\\Users\\tttoa\\anaconda3\\envs\\min_ds-env\\lib\\site-packages\\sklearn\\feature_selection\\_base.py:102: UserWarning: No features were selected: either the data is too noisy or the selection test too strict.\n",
      "  warnings.warn(\n"
     ]
    },
    {
     "data": {
      "image/png": "[encoded data removed]",
      "text/plain": [
       "<Figure size 640x480 with 1 Axes>"
      ]
     },
     "metadata": {},
     "output_type": "display_data"
    }
   ],
   "source": [
    "def select_features(X_train, y_train, X_test):\n",
    "\n",
    " fs = SelectKBest(score_func=mutual_info_regression, k=int(avg_mutual / 5))\n",
    "\n",
    " fs.fit(X_train, y_train)\n",
    "\n",
    " X_train_fs = fs.transform(X_train)\n",
    "\n",
    " X_test_fs = fs.transform(X_test)\n",
    " return X_train_fs, X_test_fs, fs\n",
    "\n",
    "\n",
    "X_train_fs, X_test_fs, fs = select_features(X_train, y_train, X_test)\n",
    "\n",
    "feature_names = X_train.columns\n",
    "\n",
    "plt.bar(range(len(fs.scores_)), fs.scores_)\n",
    "\n",
    "plt.xticks(range(len(fs.scores_)), feature_names, rotation='vertical')\n",
    "\n",
    "plt.xlabel('Features')\n",
    "plt.ylabel('Score')\n",
    "plt.title('Feature Scores')\n",
    "\n",
    "plt.show()"
   ]
  },
  {
   "cell_type": "markdown",
   "metadata": {},
   "source": [
    "Finally, ein is the last one."
   ]
  },
  {
   "cell_type": "markdown",
   "metadata": {},
   "source": [
    "### Model 2: We will choose some features based on the correlation in file 3.0-eda.ipynb"
   ]
  },
  {
   "cell_type": "markdown",
   "metadata": {},
   "source": [
    "Based on heatmap, we will choose Agriculture value added(in USD) and Net income from Abroad"
   ]
  },
  {
   "cell_type": "markdown",
   "metadata": {},
   "source": [
    "## Training model"
   ]
  },
  {
   "cell_type": "code",
   "execution_count": 150,
   "metadata": {},
   "outputs": [],
   "source": [
    "# YOUR CODE HERE (OPTION) \n",
    "X_final_1_train = X_train[['mdcre_shrtfl_tot_func_exp_pct', 'ein', 'bad_debt']]\n",
    "X_final_1_test = X_test[['mdcre_shrtfl_tot_func_exp_pct', 'ein', 'bad_debt']]\n",
    "\n",
    "X_2_train = X_train[['comm_hlth_impr_svcs_comm_bnft_oper_tot_func_exp_pct', 'mdcre_shrtfl_tot_func_exp_pct', 'chrty_care_tot_func_exp_pct']]\n",
    "X_2_test = X_test[['comm_hlth_impr_svcs_comm_bnft_oper_tot_func_exp_pct', 'mdcre_shrtfl_tot_func_exp_pct', 'chrty_care_tot_func_exp_pct']]\n",
    "X_final_2_train = pd.concat([X_2_train, X_train[['tot_comm_bnfts_tot_func_exp_pct']]*(-1), X_train[['unreim_medcd_tot_func_exp_pct']]*(-1)], axis=1)\n",
    "X_final_2_test = pd.concat([X_2_train, X_train[['tot_comm_bnfts_tot_func_exp_pct']]*(-1), X_train[['unreim_medcd_tot_func_exp_pct']]*(-1)], axis=1)"
   ]
  },
  {
   "cell_type": "code",
   "execution_count": 151,
   "metadata": {},
   "outputs": [
    {
     "data": {
      "text/html": [
       "<div>\n",
       "<style scoped>\n",
       "    .dataframe tbody tr th:only-of-type {\n",
       "        vertical-align: middle;\n",
       "    }\n",
       "\n",
       "    .dataframe tbody tr th {\n",
       "        vertical-align: top;\n",
       "    }\n",
       "\n",
       "    .dataframe thead th {\n",
       "        text-align: right;\n",
       "    }\n",
       "</style>\n",
       "<table border=\"1\" class=\"dataframe\">\n",
       "  <thead>\n",
       "    <tr style=\"text-align: right;\">\n",
       "      <th></th>\n",
       "      <th>mdcre_shrtfl_tot_func_exp_pct</th>\n",
       "      <th>ein</th>\n",
       "      <th>bad_debt</th>\n",
       "    </tr>\n",
       "  </thead>\n",
       "  <tbody>\n",
       "    <tr>\n",
       "      <th>2316</th>\n",
       "      <td>-0.673804</td>\n",
       "      <td>900640432</td>\n",
       "      <td>12110000</td>\n",
       "    </tr>\n",
       "    <tr>\n",
       "      <th>2739</th>\n",
       "      <td>-3.766514</td>\n",
       "      <td>240798681</td>\n",
       "      <td>1710127</td>\n",
       "    </tr>\n",
       "    <tr>\n",
       "      <th>2767</th>\n",
       "      <td>-5.405649</td>\n",
       "      <td>570341194</td>\n",
       "      <td>6532446</td>\n",
       "    </tr>\n",
       "    <tr>\n",
       "      <th>2929</th>\n",
       "      <td>-1.924540</td>\n",
       "      <td>750800661</td>\n",
       "      <td>239888450</td>\n",
       "    </tr>\n",
       "    <tr>\n",
       "      <th>3155</th>\n",
       "      <td>1.298961</td>\n",
       "      <td>621636465</td>\n",
       "      <td>17721390</td>\n",
       "    </tr>\n",
       "  </tbody>\n",
       "</table>\n",
       "</div>"
      ],
      "text/plain": [
       "      mdcre_shrtfl_tot_func_exp_pct        ein   bad_debt\n",
       "2316                      -0.673804  900640432   12110000\n",
       "2739                      -3.766514  240798681    1710127\n",
       "2767                      -5.405649  570341194    6532446\n",
       "2929                      -1.924540  750800661  239888450\n",
       "3155                       1.298961  621636465   17721390"
      ]
     },
     "execution_count": 151,
     "metadata": {},
     "output_type": "execute_result"
    }
   ],
   "source": [
    "X_final_1_train.head()"
   ]
  },
  {
   "cell_type": "code",
   "execution_count": 152,
   "metadata": {},
   "outputs": [
    {
     "data": {
      "text/html": [
       "<div>\n",
       "<style scoped>\n",
       "    .dataframe tbody tr th:only-of-type {\n",
       "        vertical-align: middle;\n",
       "    }\n",
       "\n",
       "    .dataframe tbody tr th {\n",
       "        vertical-align: top;\n",
       "    }\n",
       "\n",
       "    .dataframe thead th {\n",
       "        text-align: right;\n",
       "    }\n",
       "</style>\n",
       "<table border=\"1\" class=\"dataframe\">\n",
       "  <thead>\n",
       "    <tr style=\"text-align: right;\">\n",
       "      <th></th>\n",
       "      <th>comm_hlth_impr_svcs_comm_bnft_oper_tot_func_exp_pct</th>\n",
       "      <th>mdcre_shrtfl_tot_func_exp_pct</th>\n",
       "      <th>chrty_care_tot_func_exp_pct</th>\n",
       "      <th>tot_comm_bnfts_tot_func_exp_pct</th>\n",
       "      <th>unreim_medcd_tot_func_exp_pct</th>\n",
       "    </tr>\n",
       "  </thead>\n",
       "  <tbody>\n",
       "    <tr>\n",
       "      <th>2316</th>\n",
       "      <td>0.928849</td>\n",
       "      <td>-0.673804</td>\n",
       "      <td>1.012004</td>\n",
       "      <td>-12.858409</td>\n",
       "      <td>-4.904791</td>\n",
       "    </tr>\n",
       "    <tr>\n",
       "      <th>2739</th>\n",
       "      <td>0.042434</td>\n",
       "      <td>-3.766514</td>\n",
       "      <td>0.245396</td>\n",
       "      <td>-7.517135</td>\n",
       "      <td>-7.229304</td>\n",
       "    </tr>\n",
       "    <tr>\n",
       "      <th>2767</th>\n",
       "      <td>0.968346</td>\n",
       "      <td>-5.405649</td>\n",
       "      <td>2.303859</td>\n",
       "      <td>-5.045375</td>\n",
       "      <td>-1.464412</td>\n",
       "    </tr>\n",
       "    <tr>\n",
       "      <th>2929</th>\n",
       "      <td>0.115922</td>\n",
       "      <td>-1.924540</td>\n",
       "      <td>6.911231</td>\n",
       "      <td>-13.607243</td>\n",
       "      <td>-2.586084</td>\n",
       "    </tr>\n",
       "    <tr>\n",
       "      <th>3155</th>\n",
       "      <td>0.407203</td>\n",
       "      <td>1.298961</td>\n",
       "      <td>0.927230</td>\n",
       "      <td>-6.346867</td>\n",
       "      <td>-2.967212</td>\n",
       "    </tr>\n",
       "  </tbody>\n",
       "</table>\n",
       "</div>"
      ],
      "text/plain": [
       "      comm_hlth_impr_svcs_comm_bnft_oper_tot_func_exp_pct  \\\n",
       "2316                                           0.928849     \n",
       "2739                                           0.042434     \n",
       "2767                                           0.968346     \n",
       "2929                                           0.115922     \n",
       "3155                                           0.407203     \n",
       "\n",
       "      mdcre_shrtfl_tot_func_exp_pct  chrty_care_tot_func_exp_pct  \\\n",
       "2316                      -0.673804                     1.012004   \n",
       "2739                      -3.766514                     0.245396   \n",
       "2767                      -5.405649                     2.303859   \n",
       "2929                      -1.924540                     6.911231   \n",
       "3155                       1.298961                     0.927230   \n",
       "\n",
       "      tot_comm_bnfts_tot_func_exp_pct  unreim_medcd_tot_func_exp_pct  \n",
       "2316                       -12.858409                      -4.904791  \n",
       "2739                        -7.517135                      -7.229304  \n",
       "2767                        -5.045375                      -1.464412  \n",
       "2929                       -13.607243                      -2.586084  \n",
       "3155                        -6.346867                      -2.967212  "
      ]
     },
     "execution_count": 152,
     "metadata": {},
     "output_type": "execute_result"
    }
   ],
   "source": [
    "X_final_2_train.head()"
   ]
  },
  {
   "cell_type": "code",
   "execution_count": 153,
   "metadata": {},
   "outputs": [
    {
     "data": {
      "text/plain": [
       "2316     0.874518\n",
       "2739     8.031904\n",
       "2767     3.380409\n",
       "2929    14.660452\n",
       "3155     2.221214\n",
       "          ...    \n",
       "1981     8.374700\n",
       "1649     0.000000\n",
       "2758     1.452316\n",
       "1660     3.073373\n",
       "1786     5.047820\n",
       "Name: bad_debt_tot_func_exp_pct, Length: 2792, dtype: float64"
      ]
     },
     "execution_count": 153,
     "metadata": {},
     "output_type": "execute_result"
    }
   ],
   "source": [
    "y_train"
   ]
  },
  {
   "cell_type": "markdown",
   "metadata": {},
   "source": [
    "Model 1"
   ]
  },
  {
   "cell_type": "code",
   "execution_count": 154,
   "metadata": {},
   "outputs": [
    {
     "name": "stdout",
     "output_type": "stream",
     "text": [
      "Mean of this model:  6.389348779283852\n"
     ]
    }
   ],
   "source": [
    "kf = KFold(n_splits=10, shuffle=True, random_state=42)\n",
    "\n",
    "model_ = LinearRegression()\n",
    "model_.fit(X_final_1_train, y_train)\n",
    "\n",
    "score_1 = cross_val_score(model_, X_final_1_train, y_train, scoring = \"neg_mean_absolute_error\", cv=kf)\n",
    "print(\"Mean of this model: \", mean(absolute(score_1)))"
   ]
  },
  {
   "cell_type": "markdown",
   "metadata": {},
   "source": [
    "Model 2"
   ]
  },
  {
   "cell_type": "code",
   "execution_count": 155,
   "metadata": {},
   "outputs": [
    {
     "name": "stdout",
     "output_type": "stream",
     "text": [
      "Mean of this model:  15.637755338365002\n"
     ]
    }
   ],
   "source": [
    "kf = KFold(n_splits=10, shuffle=True, random_state=42)\n",
    "\n",
    "model_ = LinearRegression()\n",
    "model_.fit(X_final_2_train, y_train)\n",
    "\n",
    "score_1 = cross_val_score(model_, X_final_2_train, y_train, scoring = \"neg_mean_absolute_error\", cv=kf)\n",
    "print(\"Mean of this model: \", mean(absolute(score_1)))"
   ]
  },
  {
   "cell_type": "markdown",
   "metadata": {},
   "source": [
    "So we will choose model 1"
   ]
  },
  {
   "cell_type": "markdown",
   "metadata": {},
   "source": [
    "## Evaluation"
   ]
  },
  {
   "cell_type": "markdown",
   "metadata": {},
   "source": [
    "Re-training"
   ]
  },
  {
   "cell_type": "code",
   "execution_count": 156,
   "metadata": {},
   "outputs": [
    {
     "name": "stdout",
     "output_type": "stream",
     "text": [
      "coef:  [ 9.99972264e-01  3.83530243e-09 -2.34604466e-09]\n",
      "intercept:  5.514653346189846\n"
     ]
    }
   ],
   "source": [
    "# YOUR CODE HERE (OPTION) \n",
    "model_1 = LinearRegression()\n",
    "model_1.fit(X_final_1_train, y_train)\n",
    "\n",
    "print(\"coef: \", model_1.coef_)\n",
    "print(\"intercept: \", model_1.intercept_)"
   ]
  },
  {
   "cell_type": "code",
   "execution_count": 157,
   "metadata": {},
   "outputs": [
    {
     "name": "stdout",
     "output_type": "stream",
     "text": [
      "MAE of new model:  7.339222448345934\n"
     ]
    }
   ],
   "source": [
    "score_1 = cross_val_score(model_1, X_final_1_test, y_test, scoring = \"neg_mean_absolute_error\")\n",
    "print(\"MAE of new model: \", mean(absolute(score_1)))"
   ]
  },
  {
   "cell_type": "markdown",
   "metadata": {},
   "source": [
    "## Prediction"
   ]
  },
  {
   "cell_type": "markdown",
   "metadata": {},
   "source": [
    "Thus,\n",
    "$$\\text{GDP (in USD)} = (53.60473212) * Agriculture value added(in USD) + (37.96430544) * Net income from Abroad \\\\\n",
    "+ 25955448733.0058$$\n",
    "\n",
    "==> Note that the coef and intercept may change due to the restart, this was my result."
   ]
  },
  {
   "cell_type": "code",
   "execution_count": 22,
   "metadata": {},
   "outputs": [],
   "source": [
    "# YOUR CODE HERE (OPTION) "
   ]
  },
  {
   "cell_type": "markdown",
   "metadata": {},
   "source": [
    "## Results analysis"
   ]
  },
  {
   "cell_type": "markdown",
   "metadata": {},
   "source": [
    "Here is the MAE of the whole train set, which means we include all feature to the model. It can be seen as the avg MAE."
   ]
  },
  {
   "cell_type": "code",
   "execution_count": 158,
   "metadata": {},
   "outputs": [
    {
     "name": "stdout",
     "output_type": "stream",
     "text": [
      "Mean of this model:  16.80059900139253\n"
     ]
    }
   ],
   "source": [
    "kf = KFold(n_splits=10, shuffle=True, random_state=42)\n",
    "\n",
    "model_ = LinearRegression()\n",
    "model_.fit(X_train, y_train)\n",
    "\n",
    "score_1 = cross_val_score(model_, X_train, y_train, scoring = \"neg_mean_absolute_error\", cv=kf)\n",
    "print(\"Mean of this model: \", mean(absolute(score_1)))"
   ]
  },
  {
   "cell_type": "code",
   "execution_count": 159,
   "metadata": {},
   "outputs": [
    {
     "data": {
      "text/plain": [
       "0       13.718381\n",
       "1        1.065159\n",
       "2       86.370077\n",
       "3        1.481425\n",
       "4        3.750702\n",
       "          ...    \n",
       "3486     9.919405\n",
       "3487     2.104334\n",
       "3488    12.712880\n",
       "3489    14.660452\n",
       "3490     9.088709\n",
       "Name: bad_debt_tot_func_exp_pct, Length: 3491, dtype: float64"
      ]
     },
     "execution_count": 159,
     "metadata": {},
     "output_type": "execute_result"
    }
   ],
   "source": [
    "# YOUR CODE HERE (OPTION) \n",
    "y"
   ]
  },
  {
   "cell_type": "markdown",
   "metadata": {},
   "source": [
    "Here, as we can see, MAE of this model is less than MAE of whole feature."
   ]
  },
  {
   "cell_type": "markdown",
   "metadata": {},
   "source": [
    "## Conclusion"
   ]
  },
  {
   "cell_type": "markdown",
   "metadata": {},
   "source": [
    "**Your conclusion**"
   ]
  },
  {
   "cell_type": "markdown",
   "metadata": {},
   "source": [
    "- We can combine various feature for training our model to predict a specific feature.\n",
    "- By sorting feature's correlation, we can choose some weighty feature, thus, our precise is higher."
   ]
  }
 ],
 "metadata": {
  "kernelspec": {
   "display_name": "min_ds-env",
   "language": "python",
   "name": "python3"
  },
  "language_info": {
   "codemirror_mode": {
    "name": "ipython",
    "version": 3
   },
   "file_extension": ".py",
   "mimetype": "text/x-python",
   "name": "python",
   "nbconvert_exporter": "python",
   "pygments_lexer": "ipython3",
   "version": "3.10.8"
  }
 },
 "nbformat": 4,
 "nbformat_minor": 2
}
